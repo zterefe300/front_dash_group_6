{
 "cells": [
  {
   "cell_type": "markdown",
   "id": "4a77c298",
   "metadata": {},
   "source": [
    "# FrontDash API Interactive Tests\n",
    "\n",
    "This notebook provides one interactive test per cell to exercise the backend API endpoints used in the presentation.\n",
    "\n",
    "Prerequisites:\n",
    "- Start the backend (Docker Compose or run the Spring Boot app) so the API is available at http://localhost:8080.\n",
    "- Install Python and the `requests` package if you plan to run this notebook locally: `pip install requests`.\n",
    "\n",
    "How to use:\n",
    "- Run cells one-by-one. Each cell prints the HTTP status and response body.\n",
    "- The notebook stores created IDs in Python variables so subsequent cells can reference them.\n",
    "- There's also an interactive runner cell near the end that will run each test in sequence and pause between them (useful for demos)."
   ]
  },
  {
   "cell_type": "code",
   "execution_count": 1,
   "id": "9f3fefc0",
   "metadata": {},
   "outputs": [],
   "source": [
    "# Imports and basic config\n",
    "import requests\n",
    "import json\n",
    "from datetime import datetime, timedelta\n",
    "\n",
    "BASE = 'http://localhost:8080/api'  # change if your backend uses a different host/port\n",
    "\n",
    "def print_resp(r):\n",
    "    \"\"\"Print response status and body in a readable format without blocking.\"\"\"\n",
    "    try:\n",
    "        body = r.json()\n",
    "    except Exception:\n",
    "        body = r.text\n",
    "    print(f\"STATUS: {r.status_code}\")\n",
    "    # Print JSON nicely when possible, otherwise print raw text\n",
    "    if isinstance(body, (dict, list)):\n",
    "        print('BODY:\\n' + json.dumps(body, indent=2))\n",
    "    else:\n",
    "        print('BODY:\\n' + str(body))\n",
    "\n",
    "# Variables that tests will populate\n",
    "created_order_id = None\n",
    "created_staff_username = None\n",
    "created_driver_id = None\n",
    "created_restaurant_id = None"
   ]
  },
  {
   "cell_type": "markdown",
   "id": "e9f997d1",
   "metadata": {},
   "source": [
    "## 1) Staff successful login"
   ]
  },
  {
   "cell_type": "code",
   "execution_count": 2,
   "id": "4c23eba4",
   "metadata": {},
   "outputs": [
    {
     "name": "stdout",
     "output_type": "stream",
     "text": [
      "STATUS: 401\n",
      "BODY:\n",
      "\n"
     ]
    }
   ],
   "source": [
    "# Replace credentials with ones from your seeded data (see data.sql)\n",
    "payload = {\n",
    "    'username': 'staff_mike',\n",
    "    'password': 'staff123'\n",
    "}\n",
    "try:\n",
    "    r = requests.post(f'{BASE}/staff/login', json=payload, timeout=10)\n",
    "    print_resp(r)\n",
    "except Exception as e:\n",
    "    print('Request failed:', e)"
   ]
  },
  {
   "cell_type": "markdown",
   "id": "803e29ce",
   "metadata": {},
   "source": [
    "## 2) Staff invalid login"
   ]
  },
  {
   "cell_type": "code",
   "execution_count": 3,
   "id": "2f179bdc",
   "metadata": {},
   "outputs": [
    {
     "name": "stdout",
     "output_type": "stream",
     "text": [
      "STATUS: 401\n",
      "BODY:\n",
      "\n"
     ]
    }
   ],
   "source": [
    "payload = { 'username': 'staff_mike', 'password': 'wrongpassword' }\n",
    "try:\n",
    "    r = requests.post(f'{BASE}/staff/login', json=payload, timeout=10)\n",
    "    print_resp(r)\n",
    "except Exception as e:\n",
    "    print('Request failed:', e)"
   ]
  },
  {
   "cell_type": "markdown",
   "id": "0e499397",
   "metadata": {},
   "source": [
    "## 3) Create a new order"
   ]
  },
  {
   "cell_type": "code",
   "execution_count": 4,
   "id": "8886481b",
   "metadata": {},
   "outputs": [
    {
     "name": "stdout",
     "output_type": "stream",
     "text": [
      "STATUS: 201\n",
      "BODY:\n",
      "{\n",
      "  \"orderId\": 2,\n",
      "  \"restaurantId\": 1,\n",
      "  \"customerName\": \"Alice Presentation\",\n",
      "  \"customerPhone\": \"512-999-0000\",\n",
      "  \"totalAmount\": 25.48,\n",
      "  \"orderTime\": \"2025-10-30T04:58:18.550243835\",\n",
      "  \"estimatedDeliveryTime\": null,\n",
      "  \"orderStatus\": \"PENDING\",\n",
      "  \"assignedDriverId\": null,\n",
      "  \"address\": null,\n",
      "  \"tips\": 3.0,\n",
      "  \"subtotal\": 22.48,\n",
      "  \"deliveryTime\": null,\n",
      "  \"items\": null\n",
      "}\n",
      "created_order_id -> 2\n"
     ]
    }
   ],
   "source": [
    "order_payload = {\n",
    "  'restaurantId': 1,\n",
    "  'customerName': 'Alice Presentation',\n",
    "  'customerPhone': '512-999-0000',\n",
    "  'address': {\n",
    "     'streetAddress': '123 Maple St',\n",
    "     'city': 'Austin',\n",
    "     'state': 'TX',\n",
    "     'zipCode': '73301'\n",
    "  },\n",
    "  'items': [ { 'menuItemId': 1, 'quantity': 2 } ],\n",
    "  'tips': 3.00,\n",
    "  'subtotal': 22.48\n",
    "}\n",
    "try:\n",
    "    r = requests.post(f'{BASE}/orders', json=order_payload, timeout=10)\n",
    "    print_resp(r)\n",
    "    if r.status_code in (200,201):\n",
    "        try:\n",
    "            created_order = r.json()\n",
    "            created_order_id = created_order.get('orderId') or created_order.get('order_id')\n",
    "            print('created_order_id ->', created_order_id)\n",
    "        except Exception:\n",
    "            pass\n",
    "except Exception as e:\n",
    "    print('Request failed:', e)"
   ]
  },
  {
   "cell_type": "markdown",
   "id": "4cf755c7",
   "metadata": {},
   "source": [
    "## 4) Retrieve the order you just created"
   ]
  },
  {
   "cell_type": "code",
   "execution_count": 5,
   "id": "f9898166",
   "metadata": {},
   "outputs": [
    {
     "name": "stdout",
     "output_type": "stream",
     "text": [
      "STATUS: 200\n",
      "BODY:\n",
      "{\n",
      "  \"orderId\": 2,\n",
      "  \"restaurantId\": 1,\n",
      "  \"customerName\": \"Alice Presentation\",\n",
      "  \"customerPhone\": \"512-999-0000\",\n",
      "  \"totalAmount\": 25.48,\n",
      "  \"orderTime\": \"2025-10-30T04:58:18.550244\",\n",
      "  \"estimatedDeliveryTime\": null,\n",
      "  \"orderStatus\": \"PENDING\",\n",
      "  \"assignedDriverId\": null,\n",
      "  \"address\": {\n",
      "    \"addressId\": 2,\n",
      "    \"streetAddress\": \"123 Maple St\",\n",
      "    \"city\": \"Austin\",\n",
      "    \"state\": \"TX\",\n",
      "    \"zipCode\": \"73301\"\n",
      "  },\n",
      "  \"tips\": 3.0,\n",
      "  \"subtotal\": 22.48,\n",
      "  \"deliveryTime\": null,\n",
      "  \"items\": [\n",
      "    {\n",
      "      \"menuItemId\": 1,\n",
      "      \"quantity\": 2\n",
      "    }\n",
      "  ]\n",
      "}\n"
     ]
    }
   ],
   "source": [
    "# If the previous cell populated created_order_id this will fetch it; otherwise change the id manually\n",
    "order_id = globals().get('created_order_id') or 1\n",
    "try:\n",
    "    r = requests.get(f'{BASE}/orders/{order_id}', timeout=10)\n",
    "    print_resp(r)\n",
    "except Exception as e:\n",
    "    print('Request failed:', e)"
   ]
  },
  {
   "cell_type": "markdown",
   "id": "aaf24602",
   "metadata": {},
   "source": [
    "## 5) Assign a driver to the order"
   ]
  },
  {
   "cell_type": "code",
   "execution_count": 6,
   "id": "047e5aee",
   "metadata": {},
   "outputs": [
    {
     "name": "stdout",
     "output_type": "stream",
     "text": [
      "STATUS: 200\n",
      "BODY:\n",
      "{\n",
      "  \"orderId\": 2,\n",
      "  \"restaurantId\": 1,\n",
      "  \"customerName\": \"Alice Presentation\",\n",
      "  \"customerPhone\": \"512-999-0000\",\n",
      "  \"totalAmount\": 25.48,\n",
      "  \"orderTime\": \"2025-10-30T04:58:18.550244\",\n",
      "  \"estimatedDeliveryTime\": null,\n",
      "  \"orderStatus\": \"PENDING\",\n",
      "  \"assignedDriverId\": 1,\n",
      "  \"address\": null,\n",
      "  \"tips\": 3.0,\n",
      "  \"subtotal\": 22.48,\n",
      "  \"deliveryTime\": null,\n",
      "  \"items\": null\n",
      "}\n"
     ]
    }
   ],
   "source": [
    "# NOTE: the scaffold controller reuses an OrderItemRequest shape; we use menuItemId as driverId here\n",
    "order_id = globals().get('created_order_id') or 1\n",
    "assign_payload = { 'menuItemId': 1 }  # treat as driverId in current scaffold\n",
    "try:\n",
    "    r = requests.post(f'{BASE}/orders/{order_id}/assign-driver', json=assign_payload, timeout=10)\n",
    "    print_resp(r)\n",
    "except Exception as e:\n",
    "    print('Request failed:', e)"
   ]
  },
  {
   "cell_type": "markdown",
   "id": "54c173b7",
   "metadata": {},
   "source": [
    "## 6) Update order delivery time (mark delivered)"
   ]
  },
  {
   "cell_type": "code",
   "execution_count": 7,
   "id": "d2340880",
   "metadata": {},
   "outputs": [
    {
     "name": "stdout",
     "output_type": "stream",
     "text": [
      "STATUS: 200\n",
      "BODY:\n",
      "{\n",
      "  \"orderId\": 2,\n",
      "  \"restaurantId\": 1,\n",
      "  \"customerName\": \"Alice Presentation\",\n",
      "  \"customerPhone\": \"512-999-0000\",\n",
      "  \"totalAmount\": 25.48,\n",
      "  \"orderTime\": \"2025-10-30T04:58:18.550244\",\n",
      "  \"estimatedDeliveryTime\": null,\n",
      "  \"orderStatus\": \"DELIVERED\",\n",
      "  \"assignedDriverId\": 1,\n",
      "  \"address\": null,\n",
      "  \"tips\": 3.0,\n",
      "  \"subtotal\": 22.48,\n",
      "  \"deliveryTime\": \"2025-10-30T05:43:49.551565\",\n",
      "  \"items\": null\n",
      "}\n"
     ]
    },
    {
     "name": "stderr",
     "output_type": "stream",
     "text": [
      "C:\\Users\\hiren\\AppData\\Local\\Temp\\ipykernel_19752\\3158966759.py:2: DeprecationWarning: datetime.datetime.utcnow() is deprecated and scheduled for removal in a future version. Use timezone-aware objects to represent datetimes in UTC: datetime.datetime.now(datetime.UTC).\n",
      "  delivery_time = (datetime.utcnow() + timedelta(minutes=45)).isoformat()\n"
     ]
    }
   ],
   "source": [
    "order_id = globals().get('created_order_id') or 1\n",
    "delivery_time = (datetime.utcnow() + timedelta(minutes=45)).isoformat()\n",
    "try:\n",
    "    # This endpoint takes deliveryTime as a query param in the current scaffold\n",
    "    r = requests.post(f'{BASE}/orders/{order_id}/delivery', params={'deliveryTime': delivery_time}, timeout=10)\n",
    "    print_resp(r)\n",
    "except Exception as e:\n",
    "    print('Request failed:', e)"
   ]
  },
  {
   "cell_type": "markdown",
   "id": "f9715227",
   "metadata": {},
   "source": [
    "## 7) Create a new staff account"
   ]
  },
  {
   "cell_type": "code",
   "execution_count": 8,
   "id": "221828c5",
   "metadata": {},
   "outputs": [
    {
     "name": "stdout",
     "output_type": "stream",
     "text": [
      "STATUS: 201\n",
      "BODY:\n",
      "{\n",
      "  \"username\": \"presentation_staff\",\n",
      "  \"firstname\": \"Pres\",\n",
      "  \"lastname\": \"Staff\"\n",
      "}\n",
      "created_staff_username -> presentation_staff\n"
     ]
    }
   ],
   "source": [
    "staff_payload = { 'username': 'presentation_staff', 'password': 'pass123', 'firstname': 'Pres', 'lastname': 'Staff' }\n",
    "try:\n",
    "    r = requests.post(f'{BASE}/staff', json=staff_payload, timeout=10)\n",
    "    print_resp(r)\n",
    "    if r.status_code in (200,201):\n",
    "        created = r.json() if r.headers.get('Content-Type','').startswith('application/json') else None\n",
    "        if created and isinstance(created, dict):\n",
    "            created_staff_username = created.get('username') or staff_payload['username']\n",
    "            print('created_staff_username ->', created_staff_username)\n",
    "except Exception as e:\n",
    "    print('Request failed:', e)"
   ]
  },
  {
   "cell_type": "markdown",
   "id": "f6aaefb9",
   "metadata": {},
   "source": [
    "## 8) Delete / Inactivate staff account"
   ]
  },
  {
   "cell_type": "code",
   "execution_count": 10,
   "id": "3f08c257",
   "metadata": {},
   "outputs": [
    {
     "name": "stdout",
     "output_type": "stream",
     "text": [
      "STATUS: 404\n",
      "BODY:\n",
      "{\n",
      "  \"timestamp\": \"2025-10-30T04:02:46.465+00:00\",\n",
      "  \"status\": 404,\n",
      "  \"error\": \"Not Found\",\n",
      "  \"path\": \"/api/staff/presentation_staff\"\n",
      "}\n"
     ]
    }
   ],
   "source": [
    "staff_username = globals().get('created_staff_username') or 'presentation_staff'\n",
    "try:\n",
    "    r = requests.delete(f'{BASE}/staff/{staff_username}', timeout=10)\n",
    "    print_resp(r)\n",
    "except Exception as e:\n",
    "    print('Request failed:', e)"
   ]
  },
  {
   "cell_type": "markdown",
   "id": "5a697678",
   "metadata": {},
   "source": [
    "## 9) Create a new driver record"
   ]
  },
  {
   "cell_type": "code",
   "execution_count": 9,
   "id": "f4c42f09",
   "metadata": {},
   "outputs": [
    {
     "name": "stdout",
     "output_type": "stream",
     "text": [
      "STATUS: 404\n",
      "BODY:\n",
      "{\n",
      "  \"timestamp\": \"2025-10-30T04:59:02.266+00:00\",\n",
      "  \"status\": 404,\n",
      "  \"error\": \"Not Found\",\n",
      "  \"path\": \"/api/drivers\"\n",
      "}\n"
     ]
    }
   ],
   "source": [
    "driver_payload = { 'firstname': 'Demo', 'lastname': 'Driver' }\n",
    "try:\n",
    "    r = requests.post(f'{BASE}/drivers', json=driver_payload, timeout=10)\n",
    "    print_resp(r)\n",
    "    if r.status_code in (200,201):\n",
    "        try:\n",
    "            d = r.json()\n",
    "            created_driver_id = d.get('driverId') or d.get('id')\n",
    "            print('created_driver_id ->', created_driver_id)\n",
    "        except Exception:\n",
    "            pass\n",
    "except Exception as e:\n",
    "    print('Request failed:', e)"
   ]
  },
  {
   "cell_type": "markdown",
   "id": "531e015c",
   "metadata": {},
   "source": [
    "## 10) Delete / Inactivate driver record"
   ]
  },
  {
   "cell_type": "code",
   "execution_count": 10,
   "id": "ca6200f8",
   "metadata": {},
   "outputs": [
    {
     "name": "stdout",
     "output_type": "stream",
     "text": [
      "STATUS: 404\n",
      "BODY:\n",
      "{\n",
      "  \"timestamp\": \"2025-10-30T04:59:09.524+00:00\",\n",
      "  \"status\": 404,\n",
      "  \"error\": \"Not Found\",\n",
      "  \"path\": \"/api/drivers/1\"\n",
      "}\n"
     ]
    }
   ],
   "source": [
    "driver_id = globals().get('created_driver_id') or 1\n",
    "try:\n",
    "    r = requests.delete(f'{BASE}/drivers/{driver_id}', timeout=10)\n",
    "    print_resp(r)\n",
    "except Exception as e:\n",
    "    print('Request failed:', e)"
   ]
  },
  {
   "cell_type": "markdown",
   "id": "b220041e",
   "metadata": {},
   "source": [
    "## 11) Restaurant owner successful login"
   ]
  },
  {
   "cell_type": "code",
   "execution_count": 11,
   "id": "207ce760",
   "metadata": {},
   "outputs": [
    {
     "name": "stdout",
     "output_type": "stream",
     "text": [
      "STATUS: 404\n",
      "BODY:\n",
      "{\n",
      "  \"timestamp\": \"2025-10-30T04:59:13.985+00:00\",\n",
      "  \"status\": 404,\n",
      "  \"error\": \"Not Found\",\n",
      "  \"path\": \"/api/restaurant/login\"\n",
      "}\n"
     ]
    }
   ],
   "source": [
    "owner_payload = { 'username': 'tacofiesta_admin', 'password': 'password123' }\n",
    "try:\n",
    "    r = requests.post(f'{BASE}/restaurant/login', json=owner_payload, timeout=10)\n",
    "    print_resp(r)\n",
    "except Exception as e:\n",
    "    print('Request failed:', e)"
   ]
  },
  {
   "cell_type": "markdown",
   "id": "8f4a8457",
   "metadata": {},
   "source": [
    "## 12) Restaurant owner invalid login"
   ]
  },
  {
   "cell_type": "code",
   "execution_count": 12,
   "id": "4f019ada",
   "metadata": {},
   "outputs": [
    {
     "name": "stdout",
     "output_type": "stream",
     "text": [
      "STATUS: 404\n",
      "BODY:\n",
      "{\n",
      "  \"timestamp\": \"2025-10-30T04:59:18.034+00:00\",\n",
      "  \"status\": 404,\n",
      "  \"error\": \"Not Found\",\n",
      "  \"path\": \"/api/restaurant/login\"\n",
      "}\n"
     ]
    }
   ],
   "source": [
    "owner_payload = { 'username': 'tacofiesta_admin', 'password': 'wrong' }\n",
    "try:\n",
    "    r = requests.post(f'{BASE}/restaurant/login', json=owner_payload, timeout=10)\n",
    "    print_resp(r)\n",
    "except Exception as e:\n",
    "    print('Request failed:', e)"
   ]
  },
  {
   "cell_type": "markdown",
   "id": "abe12546",
   "metadata": {},
   "source": [
    "## 13) Restaurant owner modifies a menu item"
   ]
  },
  {
   "cell_type": "code",
   "execution_count": 13,
   "id": "92709711",
   "metadata": {},
   "outputs": [
    {
     "name": "stdout",
     "output_type": "stream",
     "text": [
      "STATUS: 404\n",
      "BODY:\n",
      "{\n",
      "  \"timestamp\": \"2025-10-30T04:59:21.282+00:00\",\n",
      "  \"status\": 404,\n",
      "  \"error\": \"Not Found\",\n",
      "  \"path\": \"/api/restaurants/1/menu/1\"\n",
      "}\n"
     ]
    }
   ],
   "source": [
    "# Example: update menu item with id=1 for restaurantId=1\n",
    "menu_update = { 'price': 9.99, 'availability': 'AVAILABLE', 'description': 'Updated for demo' }\n",
    "try:\n",
    "    r = requests.put(f'{BASE}/restaurants/1/menu/1', json=menu_update, timeout=10)\n",
    "    print_resp(r)\n",
    "except Exception as e:\n",
    "    print('Request failed:', e)"
   ]
  },
  {
   "cell_type": "markdown",
   "id": "00c79cd0",
   "metadata": {},
   "source": [
    "## 14) Restaurant owner modifies operating hours"
   ]
  },
  {
   "cell_type": "code",
   "execution_count": 14,
   "id": "dfda1f6d",
   "metadata": {},
   "outputs": [
    {
     "name": "stdout",
     "output_type": "stream",
     "text": [
      "STATUS: 404\n",
      "BODY:\n",
      "{\n",
      "  \"timestamp\": \"2025-10-30T04:59:24.503+00:00\",\n",
      "  \"status\": 404,\n",
      "  \"error\": \"Not Found\",\n",
      "  \"path\": \"/api/restaurants/1/hours/1\"\n",
      "}\n"
     ]
    }
   ],
   "source": [
    "# Example: update operating hour with id=1 for restaurantId=1\n",
    "hours_update = { 'weekDay': 'Monday', 'openTime': '09:00:00', 'closeTime': '21:00:00' }\n",
    "try:\n",
    "    r = requests.put(f'{BASE}/restaurants/1/hours/1', json=hours_update, timeout=10)\n",
    "    print_resp(r)\n",
    "except Exception as e:\n",
    "    print('Request failed:', e)"
   ]
  },
  {
   "cell_type": "markdown",
   "id": "f5fc9c22",
   "metadata": {},
   "source": [
    "## 15) New restaurant registration request"
   ]
  },
  {
   "cell_type": "code",
   "execution_count": 15,
   "id": "43812271",
   "metadata": {},
   "outputs": [
    {
     "name": "stdout",
     "output_type": "stream",
     "text": [
      "STATUS: 404\n",
      "BODY:\n",
      "{\n",
      "  \"timestamp\": \"2025-10-30T04:59:26.992+00:00\",\n",
      "  \"status\": 404,\n",
      "  \"error\": \"Not Found\",\n",
      "  \"path\": \"/api/restaurants\"\n",
      "}\n"
     ]
    }
   ],
   "source": [
    "reg_payload = {\n",
    "  'name': 'Demo Bistro',\n",
    "  'cuisineType': 'Fusion',\n",
    "  'pictureUrl': '',\n",
    "  'addressId': 1,\n",
    "  'phoneNumber': '555-000-1111',\n",
    "  'contactPersonName': 'Owner One',\n",
    "  'emailAddress': 'owner@demobistro.com'\n",
    "}\n",
    "try:\n",
    "    r = requests.post(f'{BASE}/restaurants', json=reg_payload, timeout=10)\n",
    "    print_resp(r)\n",
    "    if r.status_code in (200,201):\n",
    "        try:\n",
    "            created_restaurant = r.json()\n",
    "            created_restaurant_id = created_restaurant.get('restaurantId') or created_restaurant.get('restaurant_id')\n",
    "            print('created_restaurant_id ->', created_restaurant_id)\n",
    "        except Exception:\n",
    "            pass\n",
    "except Exception as e:\n",
    "    print('Request failed:', e)"
   ]
  },
  {
   "cell_type": "markdown",
   "id": "08e034f5",
   "metadata": {},
   "source": [
    "## 16) Admin approves / rejects a registration"
   ]
  },
  {
   "cell_type": "code",
   "execution_count": 16,
   "id": "cf1ed1e9",
   "metadata": {},
   "outputs": [
    {
     "name": "stdout",
     "output_type": "stream",
     "text": [
      "Approve response:\n",
      "STATUS: 404\n",
      "BODY:\n",
      "{\n",
      "  \"timestamp\": \"2025-10-30T04:59:30.737+00:00\",\n",
      "  \"status\": 404,\n",
      "  \"error\": \"Not Found\",\n",
      "  \"path\": \"/api/admin/restaurants/2/approve\"\n",
      "}\n",
      "Reject response:\n",
      "STATUS: 404\n",
      "BODY:\n",
      "{\n",
      "  \"timestamp\": \"2025-10-30T04:59:30.757+00:00\",\n",
      "  \"status\": 404,\n",
      "  \"error\": \"Not Found\",\n",
      "  \"path\": \"/api/admin/restaurants/2/reject\"\n",
      "}\n"
     ]
    }
   ],
   "source": [
    "# Replace 2 with the pending restaurant id created earlier if available\n",
    "pending_id = globals().get('created_restaurant_id') or 2\n",
    "try:\n",
    "    r = requests.post(f'{BASE}/admin/restaurants/{pending_id}/approve', timeout=10)\n",
    "    print('Approve response:')\n",
    "    print_resp(r)\n",
    "except Exception as e:\n",
    "    print('Request failed:', e)\n",
    "\n",
    "try:\n",
    "    r2 = requests.post(f'{BASE}/admin/restaurants/{pending_id}/reject', timeout=10)\n",
    "    print('Reject response:')\n",
    "    print_resp(r2)\n",
    "except Exception as e:\n",
    "    print('Request failed:', e)"
   ]
  },
  {
   "cell_type": "markdown",
   "id": "99da2a70",
   "metadata": {},
   "source": [
    "## 17) Restaurant withdrawal request and admin actions"
   ]
  },
  {
   "cell_type": "code",
   "execution_count": 17,
   "id": "9138abd7",
   "metadata": {},
   "outputs": [
    {
     "name": "stdout",
     "output_type": "stream",
     "text": [
      "Withdraw request:\n",
      "STATUS: 404\n",
      "BODY:\n",
      "{\n",
      "  \"timestamp\": \"2025-10-30T04:59:41.613+00:00\",\n",
      "  \"status\": 404,\n",
      "  \"error\": \"Not Found\",\n",
      "  \"path\": \"/api/restaurants/1/withdraw\"\n",
      "}\n",
      "Admin approve withdrawal:\n",
      "STATUS: 404\n",
      "BODY:\n",
      "{\n",
      "  \"timestamp\": \"2025-10-30T04:59:41.630+00:00\",\n",
      "  \"status\": 404,\n",
      "  \"error\": \"Not Found\",\n",
      "  \"path\": \"/api/admin/restaurants/1/withdraw/approve\"\n",
      "}\n",
      "Admin reject withdrawal:\n",
      "STATUS: 404\n",
      "BODY:\n",
      "{\n",
      "  \"timestamp\": \"2025-10-30T04:59:41.645+00:00\",\n",
      "  \"status\": 404,\n",
      "  \"error\": \"Not Found\",\n",
      "  \"path\": \"/api/admin/restaurants/1/withdraw/reject\"\n",
      "}\n"
     ]
    }
   ],
   "source": [
    "rest_id = globals().get('created_restaurant_id') or 1\n",
    "try:\n",
    "    r = requests.post(f'{BASE}/restaurants/{rest_id}/withdraw', timeout=10)\n",
    "    print('Withdraw request:')\n",
    "    print_resp(r)\n",
    "except Exception as e:\n",
    "    print('Request failed:', e)\n",
    "\n",
    "# Admin approve/reject withdrawal\n",
    "try:\n",
    "    ra = requests.post(f'{BASE}/admin/restaurants/{rest_id}/withdraw/approve', timeout=10)\n",
    "    print('Admin approve withdrawal:')\n",
    "    print_resp(ra)\n",
    "except Exception as e:\n",
    "    print('Request failed:', e)\n",
    "\n",
    "try:\n",
    "    rr = requests.post(f'{BASE}/admin/restaurants/{rest_id}/withdraw/reject', timeout=10)\n",
    "    print('Admin reject withdrawal:')\n",
    "    print_resp(rr)\n",
    "except Exception as e:\n",
    "    print('Request failed:', e)"
   ]
  },
  {
   "cell_type": "markdown",
   "id": "9d5c1f40",
   "metadata": {},
   "source": [
    "## 18) Interactive runner (runs the main tests and pauses between them)\n",
    "Run this cell to execute a small subset of tests sequentially; it will prompt you to press Enter between steps.\n",
    "If you prefer manual control, run the earlier cells individually instead."
   ]
  },
  {
   "cell_type": "code",
   "execution_count": 18,
   "id": "d3c885a2",
   "metadata": {},
   "outputs": [
    {
     "ename": "SyntaxError",
     "evalue": "unterminated string literal (detected at line 8) (1227763391.py, line 8)",
     "output_type": "error",
     "traceback": [
      "  \u001b[36mCell\u001b[39m\u001b[36m \u001b[39m\u001b[32mIn[18]\u001b[39m\u001b[32m, line 8\u001b[39m\n\u001b[31m    \u001b[39m\u001b[31mprint('\u001b[39m\n          ^\n\u001b[31mSyntaxError\u001b[39m\u001b[31m:\u001b[39m unterminated string literal (detected at line 8)\n"
     ]
    }
   ],
   "source": [
    "def run_demo_sequence():\n",
    "    tests = [\n",
    "        ('Staff successful login', lambda: requests.post(f'{BASE}/staff/login', json={'username':'staff_mike','password':'staff123'})),\n",
    "        ('Create order', lambda: requests.post(f'{BASE}/orders', json={ 'restaurantId':1,'customerName':'Demo','customerPhone':'512-000-0000','address':{'streetAddress':'123','city':'Austin','state':'TX','zipCode':'73301'},'items':[{'menuItemId':1,'quantity':1}],'tips':1.0,'subtotal':5.0})),\n",
    "        ('Get order (id=1)', lambda: requests.get(f'{BASE}/orders/1')),\n",
    "    ]\n",
    "    for name, fn in tests:\n",
    "        print('\n",
    "===', name, '===')\n",
    "        try:\n",
    "            r = fn()\n",
    "            print_resp(r)\n",
    "        except Exception as e:\n",
    "            print('Request failed:', e)\n",
    "        input('Press Enter to continue to next test...')\n",
    "\n",
    "# Uncomment to run interactively from this cell:\n",
    "# run_demo_sequence()"
   ]
  },
  {
   "cell_type": "markdown",
   "id": "b913092c",
   "metadata": {},
   "source": [
    "---\n",
    "## Notes\n",
    "- Some endpoints used in this notebook may not be implemented yet in the backend; running those cells will show error responses which helps you identify missing controllers or DTO mismatches.\n",
    "- For presentation, run Docker Compose then open this notebook and proceed cell-by-cell.\n",
    "- If you want, I can also add pytest-style unit/integration tests that assert expected behavior and can be run headlessly."
   ]
  }
 ],
 "metadata": {
  "kernelspec": {
   "display_name": "Python 3",
   "language": "python",
   "name": "python3"
  },
  "language_info": {
   "codemirror_mode": {
    "name": "ipython",
    "version": 3
   },
   "file_extension": ".py",
   "mimetype": "text/x-python",
   "name": "python",
   "nbconvert_exporter": "python",
   "pygments_lexer": "ipython3",
   "version": "3.13.1"
  }
 },
 "nbformat": 4,
 "nbformat_minor": 5
}
